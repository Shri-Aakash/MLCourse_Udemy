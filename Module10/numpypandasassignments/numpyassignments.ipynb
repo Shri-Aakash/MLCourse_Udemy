{
 "cells": [
  {
   "cell_type": "markdown",
   "metadata": {},
   "source": [
    "# Module: NumPy Assignments\n",
    "## Lesson: NumPy\n",
    "### Assignment 1: Array Creation and Manipulation\n",
    "\n",
    "1. Create a NumPy array of shape (5, 5) filled with random integers between 1 and 20. Replace all the elements in the third column with 1.\n",
    "2. Create a NumPy array of shape (4, 4) with values from 1 to 16. Replace the diagonal elements with 0.\n",
    "\n",
    "### Assignment 2: Array Indexing and Slicing\n",
    "\n",
    "1. Create a NumPy array of shape (6, 6) with values from 1 to 36. Extract the sub-array consisting of the 3rd to 5th rows and 2nd to 4th columns.\n",
    "2. Create a NumPy array of shape (5, 5) with random integers. Extract the elements on the border.\n",
    "\n",
    "### Assignment 3: Array Operations\n",
    "\n",
    "1. Create two NumPy arrays of shape (3, 4) filled with random integers. Perform element-wise addition, subtraction, multiplication, and division.\n",
    "2. Create a NumPy array of shape (4, 4) with values from 1 to 16. Compute the row-wise and column-wise sum.\n",
    "\n",
    "### Assignment 4: Statistical Operations\n",
    "\n",
    "1. Create a NumPy array of shape (5, 5) filled with random integers. Compute the mean, median, standard deviation, and variance of the array.\n",
    "2. Create a NumPy array of shape (3, 3) with values from 1 to 9. Normalize the array (i.e., scale the values to have a mean of 0 and a standard deviation of 1).\n",
    "\n",
    "### Assignment 5: Broadcasting\n",
    "\n",
    "1. Create a NumPy array of shape (3, 3) filled with random integers. Add a 1D array of shape (3,) to each row of the 2D array using broadcasting.\n",
    "2. Create a NumPy array of shape (4, 4) filled with random integers. Subtract a 1D array of shape (4,) from each column of the 2D array using broadcasting.\n",
    "\n",
    "### Assignment 6: Linear Algebra\n",
    "\n",
    "1. Create a NumPy array of shape (3, 3) representing a matrix. Compute its determinant, inverse, and eigenvalues.\n",
    "2. Create two NumPy arrays of shape (2, 3) and (3, 2). Perform matrix multiplication on these arrays.\n",
    "\n",
    "### Assignment 7: Advanced Array Manipulation\n",
    "\n",
    "1. Create a NumPy array of shape (3, 3) with values from 1 to 9. Reshape the array to shape (1, 9) and then to shape (9, 1).\n",
    "2. Create a NumPy array of shape (5, 5) filled with random integers. Flatten the array and then reshape it back to (5, 5).\n",
    "\n",
    "### Assignment 8: Fancy Indexing and Boolean Indexing\n",
    "\n",
    "1. Create a NumPy array of shape (5, 5) filled with random integers. Use fancy indexing to extract the elements at the corners of the array.\n",
    "2. Create a NumPy array of shape (4, 4) filled with random integers. Use boolean indexing to set all elements greater than 10 to 10.\n",
    "\n",
    "### Assignment 9: Structured Arrays\n",
    "\n",
    "1. Create a structured array with fields 'name' (string), 'age' (integer), and 'weight' (float). Add some data and sort the array by age.\n",
    "2. Create a structured array with fields 'x' and 'y' (both integers). Add some data and compute the Euclidean distance between each pair of points.\n",
    "\n",
    "### Assignment 10: Masked Arrays\n",
    "\n",
    "1. Create a masked array of shape (4, 4) with random integers and mask the elements greater than 10. Compute the sum of the unmasked elements.\n",
    "2. Create a masked array of shape (3, 3) with random integers and mask the diagonal elements. Replace the masked elements with the mean of the unmasked elements."
   ]
  },
  {
   "cell_type": "code",
   "execution_count": 3,
   "id": "ff28e26c",
   "metadata": {},
   "outputs": [],
   "source": [
    "import numpy as np\n",
    "np.random.seed(42)"
   ]
  },
  {
   "cell_type": "markdown",
   "id": "6b612108",
   "metadata": {},
   "source": [
    "##### Assignment 1"
   ]
  },
  {
   "cell_type": "code",
   "execution_count": 1,
   "id": "e2dce673",
   "metadata": {},
   "outputs": [],
   "source": [
    "import numpy as np"
   ]
  },
  {
   "cell_type": "code",
   "execution_count": 2,
   "id": "84faface",
   "metadata": {},
   "outputs": [],
   "source": [
    "np.random.seed(42)"
   ]
  },
  {
   "cell_type": "code",
   "execution_count": 3,
   "metadata": {},
   "outputs": [
    {
     "data": {
      "text/plain": [
       "array([[ 7, 15, 11,  8,  7],\n",
       "       [19, 11, 11,  4,  8],\n",
       "       [ 3,  2, 12,  6,  2],\n",
       "       [ 1, 12, 12, 17, 10],\n",
       "       [16, 15, 15, 19, 12]])"
      ]
     },
     "execution_count": 3,
     "metadata": {},
     "output_type": "execute_result"
    }
   ],
   "source": [
    "### Assignment 1\n",
    "arr=np.random.randint(1,20,(5,5))\n",
    "arr"
   ]
  },
  {
   "cell_type": "code",
   "execution_count": 5,
   "id": "d21de810",
   "metadata": {},
   "outputs": [
    {
     "data": {
      "text/plain": [
       "array([[ 7, 15,  1,  8,  7],\n",
       "       [19, 11,  1,  4,  8],\n",
       "       [ 3,  2,  1,  6,  2],\n",
       "       [ 1, 12,  1, 17, 10],\n",
       "       [16, 15,  1, 19, 12]])"
      ]
     },
     "execution_count": 5,
     "metadata": {},
     "output_type": "execute_result"
    }
   ],
   "source": [
    "arr[:,2]=1\n",
    "arr"
   ]
  },
  {
   "cell_type": "code",
   "execution_count": 6,
   "id": "d9eaf22f",
   "metadata": {},
   "outputs": [
    {
     "data": {
      "text/plain": [
       "array([[ 7,  4,  9,  3],\n",
       "       [ 5,  3,  7,  5],\n",
       "       [ 9,  7,  2,  4],\n",
       "       [ 9, 12, 14,  2]])"
      ]
     },
     "execution_count": 6,
     "metadata": {},
     "output_type": "execute_result"
    }
   ],
   "source": [
    "arr=np.random.randint(1,16,(4,4))\n",
    "arr"
   ]
  },
  {
   "cell_type": "code",
   "execution_count": 7,
   "id": "fdf656bc",
   "metadata": {},
   "outputs": [
    {
     "data": {
      "text/plain": [
       "array([[ 0,  4,  9,  3],\n",
       "       [ 5,  0,  7,  5],\n",
       "       [ 9,  7,  0,  4],\n",
       "       [ 9, 12, 14,  0]])"
      ]
     },
     "execution_count": 7,
     "metadata": {},
     "output_type": "execute_result"
    }
   ],
   "source": [
    "np.fill_diagonal(arr,0)\n",
    "arr"
   ]
  },
  {
   "cell_type": "markdown",
   "id": "24a3650b",
   "metadata": {},
   "source": [
    "#### Assignment 2"
   ]
  },
  {
   "cell_type": "code",
   "execution_count": 8,
   "id": "4c2717a6",
   "metadata": {},
   "outputs": [
    {
     "data": {
      "text/plain": [
       "array([[ 1,  2,  3,  4,  5,  6],\n",
       "       [ 7,  8,  9, 10, 11, 12],\n",
       "       [13, 14, 15, 16, 17, 18],\n",
       "       [19, 20, 21, 22, 23, 24],\n",
       "       [25, 26, 27, 28, 29, 30],\n",
       "       [31, 32, 33, 34, 35, 36]])"
      ]
     },
     "execution_count": 8,
     "metadata": {},
     "output_type": "execute_result"
    }
   ],
   "source": [
    "arr=np.arange(1,37).reshape((6,6))\n",
    "arr"
   ]
  },
  {
   "cell_type": "code",
   "execution_count": 9,
   "id": "9225f01c",
   "metadata": {},
   "outputs": [
    {
     "data": {
      "text/plain": [
       "array([[14, 15, 16],\n",
       "       [20, 21, 22],\n",
       "       [26, 27, 28]])"
      ]
     },
     "execution_count": 9,
     "metadata": {},
     "output_type": "execute_result"
    }
   ],
   "source": [
    "arr[2:5,1:4]"
   ]
  },
  {
   "cell_type": "code",
   "execution_count": 10,
   "id": "2fea2a56",
   "metadata": {},
   "outputs": [
    {
     "data": {
      "text/plain": [
       "array([[-0.1402185 , -0.0331934 , -0.74907652, -0.77838201,  0.94884286],\n",
       "       [ 1.58085059, -0.36817094,  0.37556463, -1.19315823, -0.4090519 ],\n",
       "       [-0.44674147,  1.52424163,  0.3229998 , -1.39341694, -2.17833425],\n",
       "       [-1.04389641,  0.17269371,  0.32419877,  0.74585954, -1.83658324],\n",
       "       [ 0.56446424,  0.02550067,  0.47319325,  0.6591906 ,  2.34074633]])"
      ]
     },
     "execution_count": 10,
     "metadata": {},
     "output_type": "execute_result"
    }
   ],
   "source": [
    "arr=np.random.randn(5,5)\n",
    "arr"
   ]
  },
  {
   "cell_type": "code",
   "execution_count": 11,
   "id": "a4b05839",
   "metadata": {},
   "outputs": [
    {
     "data": {
      "text/plain": [
       "array([-0.1402185 , -0.0331934 , -0.74907652, -0.77838201,  0.94884286,\n",
       "       -0.1402185 ,  1.58085059, -0.44674147, -1.04389641,  0.56446424,\n",
       "        0.56446424,  0.02550067,  0.47319325,  0.6591906 ,  2.34074633,\n",
       "        0.94884286, -0.4090519 , -2.17833425, -1.83658324,  2.34074633])"
      ]
     },
     "execution_count": 11,
     "metadata": {},
     "output_type": "execute_result"
    }
   ],
   "source": [
    "edges=np.concatenate([arr[0,:],arr[:,0],arr[-1,:],arr[:,-1]])\n",
    "edges"
   ]
  },
  {
   "cell_type": "markdown",
   "id": "7db082f0",
   "metadata": {},
   "source": [
    "#### Assignment 3"
   ]
  },
  {
   "cell_type": "code",
   "execution_count": 12,
   "id": "7d0812a9",
   "metadata": {},
   "outputs": [
    {
     "data": {
      "text/plain": [
       "(array([[0.96525531, 0.60703425, 0.27599918, 0.29627351],\n",
       "        [0.16526694, 0.01563641, 0.42340148, 0.39488152],\n",
       "        [0.29348817, 0.01407982, 0.1988424 , 0.71134195]]),\n",
       " array([[0.79017554, 0.60595997, 0.92630088, 0.65107703],\n",
       "        [0.91495968, 0.85003858, 0.44945067, 0.09541012],\n",
       "        [0.37081825, 0.66884125, 0.66592236, 0.59129779]]))"
      ]
     },
     "execution_count": 12,
     "metadata": {},
     "output_type": "execute_result"
    }
   ],
   "source": [
    "arr1=np.random.rand(3,4)\n",
    "arr2=np.random.rand(3,4)\n",
    "arr1,arr2"
   ]
  },
  {
   "cell_type": "code",
   "execution_count": 13,
   "id": "05245953",
   "metadata": {},
   "outputs": [
    {
     "data": {
      "text/plain": [
       "array([[1.75543085, 1.21299422, 1.20230006, 0.94735053],\n",
       "       [1.08022661, 0.86567498, 0.87285215, 0.49029163],\n",
       "       [0.66430643, 0.68292108, 0.86476476, 1.30263974]])"
      ]
     },
     "execution_count": 13,
     "metadata": {},
     "output_type": "execute_result"
    }
   ],
   "source": [
    "arr1+arr2"
   ]
  },
  {
   "cell_type": "code",
   "execution_count": 14,
   "id": "48d55f6d",
   "metadata": {},
   "outputs": [
    {
     "data": {
      "text/plain": [
       "array([[ 0.17507977,  0.00107427, -0.6503017 , -0.35480352],\n",
       "       [-0.74969274, -0.83440217, -0.02604919,  0.2994714 ],\n",
       "       [-0.07733008, -0.65476143, -0.46707995,  0.12004417]])"
      ]
     },
     "execution_count": 14,
     "metadata": {},
     "output_type": "execute_result"
    }
   ],
   "source": [
    "arr1-arr2"
   ]
  },
  {
   "cell_type": "code",
   "execution_count": 15,
   "id": "dfeae512",
   "metadata": {},
   "outputs": [
    {
     "data": {
      "text/plain": [
       "array([[0.76272113, 0.36783846, 0.25565828, 0.19289687],\n",
       "       [0.15121258, 0.01329155, 0.19029808, 0.03767569],\n",
       "       [0.10883077, 0.00941717, 0.1324136 , 0.42061492]])"
      ]
     },
     "execution_count": 15,
     "metadata": {},
     "output_type": "execute_result"
    }
   ],
   "source": [
    "arr1*arr2"
   ]
  },
  {
   "cell_type": "code",
   "execution_count": 16,
   "id": "385361e8",
   "metadata": {},
   "outputs": [
    {
     "data": {
      "text/plain": [
       "array([[1.22157072, 1.00177284, 0.29795846, 0.45505139],\n",
       "       [0.18062757, 0.01839494, 0.94204215, 4.13878038],\n",
       "       [0.79146097, 0.02105107, 0.29859698, 1.20301812]])"
      ]
     },
     "execution_count": 16,
     "metadata": {},
     "output_type": "execute_result"
    }
   ],
   "source": [
    "arr1/arr2"
   ]
  },
  {
   "cell_type": "code",
   "execution_count": 17,
   "id": "56944031",
   "metadata": {},
   "outputs": [
    {
     "data": {
      "text/plain": [
       "array([[ 1,  2,  3,  4],\n",
       "       [ 5,  6,  7,  8],\n",
       "       [ 9, 10, 11, 12],\n",
       "       [13, 14, 15, 16]])"
      ]
     },
     "execution_count": 17,
     "metadata": {},
     "output_type": "execute_result"
    }
   ],
   "source": [
    "arr=np.arange(1,17).reshape(4,4)\n",
    "arr"
   ]
  },
  {
   "cell_type": "code",
   "execution_count": 18,
   "id": "e7ff0b71",
   "metadata": {},
   "outputs": [
    {
     "data": {
      "text/plain": [
       "array([28, 32, 36, 40])"
      ]
     },
     "execution_count": 18,
     "metadata": {},
     "output_type": "execute_result"
    }
   ],
   "source": [
    "np.sum(arr,axis=0)"
   ]
  },
  {
   "cell_type": "code",
   "execution_count": 19,
   "id": "7ba2b2ae",
   "metadata": {},
   "outputs": [
    {
     "data": {
      "text/plain": [
       "array([10, 26, 42, 58])"
      ]
     },
     "execution_count": 19,
     "metadata": {},
     "output_type": "execute_result"
    }
   ],
   "source": [
    "np.sum(arr,axis=1)"
   ]
  },
  {
   "cell_type": "markdown",
   "id": "240cfdf5",
   "metadata": {},
   "source": [
    "#### Assignment 4"
   ]
  },
  {
   "cell_type": "markdown",
   "id": "2bbddff9",
   "metadata": {},
   "source": [
    "Q1"
   ]
  },
  {
   "cell_type": "code",
   "execution_count": 24,
   "id": "31ad5113",
   "metadata": {},
   "outputs": [
    {
     "data": {
      "text/plain": [
       "array([[899, 733, 484, 406, 230],\n",
       "       [748, 654, 170, 540,  35],\n",
       "       [524, 159, 838, 698, 242],\n",
       "       [ 85, 795, 577, 681, 556],\n",
       "       [573, 952, 645, 795,  27]])"
      ]
     },
     "execution_count": 24,
     "metadata": {},
     "output_type": "execute_result"
    }
   ],
   "source": [
    "arr=np.random.randint(0,1000,size=(5,5))\n",
    "arr"
   ]
  },
  {
   "cell_type": "code",
   "execution_count": 25,
   "id": "47374f1d",
   "metadata": {},
   "outputs": [
    {
     "name": "stdout",
     "output_type": "stream",
     "text": [
      "Mean of the array:521.84\n",
      "Standard deviation of the array:273.8510076665777\n",
      "Variance of the array:74994.3744\n"
     ]
    }
   ],
   "source": [
    "mean=np.mean(arr)\n",
    "std_deviation=np.std(arr)\n",
    "variance=np.var(arr)\n",
    "print(f\"Mean of the array:{mean}\\nStandard deviation of the array:{std_deviation}\\nVariance of the array:{variance}\")"
   ]
  },
  {
   "cell_type": "markdown",
   "id": "119b869b",
   "metadata": {},
   "source": [
    "Q2"
   ]
  },
  {
   "cell_type": "code",
   "execution_count": 33,
   "id": "84a955e1",
   "metadata": {},
   "outputs": [
    {
     "data": {
      "text/plain": [
       "array([[1., 2., 3.],\n",
       "       [4., 5., 6.],\n",
       "       [7., 8., 9.]])"
      ]
     },
     "execution_count": 33,
     "metadata": {},
     "output_type": "execute_result"
    }
   ],
   "source": [
    "arr=np.arange(1,10,dtype=np.float64).reshape(3,3)\n",
    "arr"
   ]
  },
  {
   "cell_type": "code",
   "execution_count": 34,
   "id": "bf84ffed",
   "metadata": {},
   "outputs": [
    {
     "data": {
      "text/plain": [
       "array([[-4., -3., -2.],\n",
       "       [-1.,  0.,  1.],\n",
       "       [ 2.,  3.,  4.]])"
      ]
     },
     "execution_count": 34,
     "metadata": {},
     "output_type": "execute_result"
    }
   ],
   "source": [
    "mean=np.mean(arr)\n",
    "std=np.std(arr)\n",
    "arr-=np.mean(arr)\n",
    "arr"
   ]
  },
  {
   "cell_type": "code",
   "execution_count": 36,
   "id": "ed5a0ed7",
   "metadata": {},
   "outputs": [
    {
     "data": {
      "text/plain": [
       "array([[-1.54919334, -1.161895  , -0.77459667],\n",
       "       [-0.38729833,  0.        ,  0.38729833],\n",
       "       [ 0.77459667,  1.161895  ,  1.54919334]])"
      ]
     },
     "execution_count": 36,
     "metadata": {},
     "output_type": "execute_result"
    }
   ],
   "source": [
    "arr/=std\n",
    "arr"
   ]
  },
  {
   "cell_type": "code",
   "execution_count": 37,
   "id": "0d1dd9ec",
   "metadata": {},
   "outputs": [
    {
     "name": "stdout",
     "output_type": "stream",
     "text": [
      "New mean of array:0.0 and standard deviation:1.0\n"
     ]
    }
   ],
   "source": [
    "print(f\"New mean of array:{np.mean(arr)} and standard deviation:{np.std(arr)}\")"
   ]
  },
  {
   "cell_type": "markdown",
   "id": "e586702d",
   "metadata": {},
   "source": [
    "#### Assignment 5"
   ]
  },
  {
   "cell_type": "markdown",
   "id": "6937d98e",
   "metadata": {},
   "source": [
    "Q1"
   ]
  },
  {
   "cell_type": "code",
   "execution_count": 17,
   "id": "e45d6245",
   "metadata": {},
   "outputs": [
    {
     "name": "stdout",
     "output_type": "stream",
     "text": [
      "[[0.63755747 0.88721274 0.47221493]\n",
      " [0.11959425 0.71324479 0.76078505]\n",
      " [0.5612772  0.77096718 0.4937956 ]]\n",
      "[0.52273283 0.42754102 0.02541913]\n"
     ]
    }
   ],
   "source": [
    "arr=np.random.rand(3,3)\n",
    "oned_arr=np.random.rand(3,)\n",
    "print(arr)\n",
    "print(oned_arr)"
   ]
  },
  {
   "cell_type": "code",
   "execution_count": 18,
   "id": "4861bf58",
   "metadata": {},
   "outputs": [
    {
     "data": {
      "text/plain": [
       "array([[1.1602903 , 1.31475376, 0.49763405],\n",
       "       [0.64232708, 1.14078581, 0.78620418],\n",
       "       [1.08401003, 1.1985082 , 0.51921472]])"
      ]
     },
     "execution_count": 18,
     "metadata": {},
     "output_type": "execute_result"
    }
   ],
   "source": [
    "summed_arr=arr+oned_arr\n",
    "summed_arr"
   ]
  },
  {
   "cell_type": "code",
   "execution_count": 7,
   "id": "5b229b6c",
   "metadata": {},
   "outputs": [],
   "source": [
    "assert summed_arr[0][0]==arr[0][0]+oned_arr[0]\n",
    "assert summed_arr[0][1]==arr[0][1]+oned_arr[1]\n",
    "assert summed_arr[0][2]==arr[0][2]+oned_arr[2]\n",
    "assert summed_arr[1][0]==arr[1][0]+oned_arr[0]\n",
    "assert summed_arr[1][1]==arr[1][1]+oned_arr[1]\n",
    "assert summed_arr[1][2]==arr[1][2]+oned_arr[2]\n",
    "assert summed_arr[2][0]==arr[2][0]+oned_arr[0]\n",
    "assert summed_arr[2][1]==arr[2][1]+oned_arr[1]\n",
    "assert summed_arr[2][2]==arr[2][2]+oned_arr[2]"
   ]
  },
  {
   "cell_type": "markdown",
   "id": "e5434e83",
   "metadata": {},
   "source": [
    "Q2"
   ]
  },
  {
   "cell_type": "code",
   "execution_count": 43,
   "id": "03b574ad",
   "metadata": {},
   "outputs": [
    {
     "name": "stdout",
     "output_type": "stream",
     "text": [
      "[[7 3 0 7]\n",
      " [3 5 7 3]\n",
      " [2 8 2 8]\n",
      " [1 1 1 5]]\n",
      "[[0.44842414]\n",
      " [0.99445746]\n",
      " [0.17592525]\n",
      " [0.01807536]]\n"
     ]
    }
   ],
   "source": [
    "arr=np.random.randint(0,10,(4,4))\n",
    "col_arr=np.random.rand(4,1)\n",
    "print(arr)\n",
    "print(col_arr)"
   ]
  },
  {
   "cell_type": "code",
   "execution_count": 44,
   "id": "24d6d020",
   "metadata": {},
   "outputs": [],
   "source": [
    "diff_arr=arr-col_arr"
   ]
  },
  {
   "cell_type": "code",
   "execution_count": 46,
   "id": "e535a59f",
   "metadata": {},
   "outputs": [
    {
     "data": {
      "text/plain": [
       "array([[ 6.55157586,  2.55157586, -0.44842414,  6.55157586],\n",
       "       [ 2.00554254,  4.00554254,  6.00554254,  2.00554254],\n",
       "       [ 1.82407475,  7.82407475,  1.82407475,  7.82407475],\n",
       "       [ 0.98192464,  0.98192464,  0.98192464,  4.98192464]])"
      ]
     },
     "execution_count": 46,
     "metadata": {},
     "output_type": "execute_result"
    }
   ],
   "source": [
    "diff_arr"
   ]
  },
  {
   "cell_type": "code",
   "execution_count": 48,
   "id": "d18e6891",
   "metadata": {},
   "outputs": [],
   "source": [
    "assert diff_arr[0][0]==arr[0][0]-col_arr[0][0]\n",
    "assert diff_arr[0][1]==arr[0][1]-col_arr[0][0]\n",
    "assert diff_arr[0][2]==arr[0][2]-col_arr[0][0]\n",
    "assert diff_arr[0][3]==arr[0][3]-col_arr[0][0]\n",
    "assert diff_arr[1][0]==arr[1][0]-col_arr[1][0]\n",
    "assert diff_arr[1][1]==arr[1][1]-col_arr[1][0]\n",
    "assert diff_arr[1][2]==arr[1][2]-col_arr[1][0]\n",
    "assert diff_arr[1][3]==arr[1][3]-col_arr[1][0]\n",
    "assert diff_arr[2][0]==arr[2][0]-col_arr[2][0]\n",
    "assert diff_arr[2][1]==arr[2][1]-col_arr[2][0]\n",
    "assert diff_arr[2][2]==arr[2][2]-col_arr[2][0]\n",
    "assert diff_arr[2][3]==arr[2][3]-col_arr[2][0]\n",
    "assert diff_arr[3][0]==arr[3][0]-col_arr[3][0]\n",
    "assert diff_arr[3][1]==arr[3][1]-col_arr[3][0]\n",
    "assert diff_arr[3][2]==arr[3][2]-col_arr[3][0]\n",
    "assert diff_arr[3][3]==arr[3][3]-col_arr[3][0]"
   ]
  },
  {
   "cell_type": "markdown",
   "id": "0c9641b6",
   "metadata": {},
   "source": [
    "#### Assignment 6"
   ]
  },
  {
   "cell_type": "markdown",
   "id": "7ac9c595",
   "metadata": {},
   "source": [
    "Q1"
   ]
  },
  {
   "cell_type": "code",
   "execution_count": 5,
   "id": "7b58a58d",
   "metadata": {},
   "outputs": [
    {
     "name": "stdout",
     "output_type": "stream",
     "text": [
      "[[5 4 8]\n",
      " [8 3 6]\n",
      " [5 2 8]]\n",
      "Inverse: [[-0.17647059  0.23529412  0.        ]\n",
      " [ 0.5         0.         -0.5       ]\n",
      " [-0.01470588 -0.14705882  0.25      ]]\n",
      "Determinant:-68.00000000000001\n",
      "EigenValue:[16.04752044 -2.08239552  2.03487508]\n"
     ]
    }
   ],
   "source": [
    "arr=np.random.randint(1,11,size=(3,3))\n",
    "det=np.linalg.det(arr)\n",
    "inverse=np.linalg.inv(arr)\n",
    "eigen=np.linalg.eigvals(arr)\n",
    "print(arr)\n",
    "print(f\"Inverse: {inverse}\\nDeterminant:{det}\\nEigenValue:{eigen}\")"
   ]
  },
  {
   "cell_type": "markdown",
   "id": "c1a48b33",
   "metadata": {},
   "source": [
    "Q2"
   ]
  },
  {
   "cell_type": "code",
   "execution_count": 7,
   "id": "2d2698d1",
   "metadata": {},
   "outputs": [
    {
     "name": "stdout",
     "output_type": "stream",
     "text": [
      "[[9 3]\n",
      " [5 3]\n",
      " [7 5]]\n",
      "[[9 7 2]\n",
      " [4 9 2]]\n",
      "[[93 90 24]\n",
      " [57 62 16]\n",
      " [83 94 24]]\n"
     ]
    }
   ],
   "source": [
    "arr1=np.random.randint(1,11,(3,2))\n",
    "arr2=np.random.randint(1,11,(2,3))\n",
    "\n",
    "print(arr1,arr2,sep=\"\\n\")\n",
    "\n",
    "res=np.matmul(arr1,arr2)\n",
    "print(res)"
   ]
  },
  {
   "cell_type": "markdown",
   "id": "83c03c9c",
   "metadata": {},
   "source": [
    "#### Assignement 7"
   ]
  },
  {
   "cell_type": "markdown",
   "id": "ff6fb437",
   "metadata": {},
   "source": [
    "Q1"
   ]
  },
  {
   "cell_type": "code",
   "execution_count": 12,
   "id": "fff79d77",
   "metadata": {},
   "outputs": [
    {
     "name": "stdout",
     "output_type": "stream",
     "text": [
      "[[1 2 3]\n",
      " [4 5 6]\n",
      " [7 8 9]]\n"
     ]
    }
   ],
   "source": [
    "arr=np.arange(1,10).reshape((3,3))\n",
    "print(arr)"
   ]
  },
  {
   "cell_type": "code",
   "execution_count": 13,
   "id": "dee568f4",
   "metadata": {},
   "outputs": [
    {
     "name": "stdout",
     "output_type": "stream",
     "text": [
      "[[1 2 3 4 5 6 7 8 9]]\n"
     ]
    }
   ],
   "source": [
    "arr=arr.reshape((1,9))\n",
    "print(arr)"
   ]
  },
  {
   "cell_type": "code",
   "execution_count": 14,
   "id": "522247b3",
   "metadata": {},
   "outputs": [
    {
     "name": "stdout",
     "output_type": "stream",
     "text": [
      "[[1]\n",
      " [2]\n",
      " [3]\n",
      " [4]\n",
      " [5]\n",
      " [6]\n",
      " [7]\n",
      " [8]\n",
      " [9]]\n"
     ]
    }
   ],
   "source": [
    "arr=arr.reshape((9,1))\n",
    "print(arr)"
   ]
  },
  {
   "cell_type": "markdown",
   "id": "516dd167",
   "metadata": {},
   "source": [
    "Q2"
   ]
  },
  {
   "cell_type": "code",
   "execution_count": 15,
   "id": "0baf3e2b",
   "metadata": {},
   "outputs": [
    {
     "name": "stdout",
     "output_type": "stream",
     "text": [
      "[[ 9  8  9  4  1]\n",
      " [ 3 11 14 11  6]\n",
      " [11 12  7 14  2]\n",
      " [13  0  3  1  7]\n",
      " [ 3  1 13  5  5]]\n"
     ]
    }
   ],
   "source": [
    "arr=np.random.randint(0,15,size=(5,5))\n",
    "print(arr)"
   ]
  },
  {
   "cell_type": "code",
   "execution_count": 16,
   "id": "38a59ac4",
   "metadata": {},
   "outputs": [
    {
     "name": "stdout",
     "output_type": "stream",
     "text": [
      "[ 9  8  9  4  1  3 11 14 11  6 11 12  7 14  2 13  0  3  1  7  3  1 13  5\n",
      "  5]\n"
     ]
    }
   ],
   "source": [
    "arr=arr.flatten()\n",
    "print(arr)"
   ]
  },
  {
   "cell_type": "code",
   "execution_count": 17,
   "id": "bf52886e",
   "metadata": {},
   "outputs": [
    {
     "name": "stdout",
     "output_type": "stream",
     "text": [
      "[[ 9  8  9  4  1]\n",
      " [ 3 11 14 11  6]\n",
      " [11 12  7 14  2]\n",
      " [13  0  3  1  7]\n",
      " [ 3  1 13  5  5]]\n"
     ]
    }
   ],
   "source": [
    "arr=arr.reshape((5,5))\n",
    "print(arr)"
   ]
  },
  {
   "cell_type": "markdown",
   "id": "2baa48b2",
   "metadata": {},
   "source": [
    "#### Assignment 8"
   ]
  },
  {
   "cell_type": "markdown",
   "id": "851d0d46",
   "metadata": {},
   "source": [
    "Q1"
   ]
  },
  {
   "cell_type": "code",
   "execution_count": 18,
   "id": "2c355672",
   "metadata": {},
   "outputs": [
    {
     "name": "stdout",
     "output_type": "stream",
     "text": [
      "[[ 9  3 21 17 11]\n",
      " [ 1  9  3 13 15]\n",
      " [14  7 13 22 24]\n",
      " [ 7 20 15 12 17]\n",
      " [14 20 23 24 12]]\n"
     ]
    }
   ],
   "source": [
    "arr=np.random.randint(0,25,(5,5))\n",
    "print(arr)"
   ]
  },
  {
   "cell_type": "code",
   "execution_count": 19,
   "id": "32458959",
   "metadata": {},
   "outputs": [
    {
     "name": "stdout",
     "output_type": "stream",
     "text": [
      "[ 9 11 14 12]\n"
     ]
    }
   ],
   "source": [
    "corners=arr[[0,0,-1,-1],[0,-1,0,-1]]\n",
    "print(corners)"
   ]
  },
  {
   "cell_type": "markdown",
   "id": "d4cb3c6e",
   "metadata": {},
   "source": [
    "Q2"
   ]
  },
  {
   "cell_type": "code",
   "execution_count": 20,
   "id": "0603a9c7",
   "metadata": {},
   "outputs": [
    {
     "name": "stdout",
     "output_type": "stream",
     "text": [
      "[[ 8 14 12  0]\n",
      " [24  6  8 23]\n",
      " [ 0 11  7 23]\n",
      " [10 18 16  7]]\n"
     ]
    }
   ],
   "source": [
    "arr=np.random.randint(0,25,(4,4))\n",
    "print(arr)"
   ]
  },
  {
   "cell_type": "code",
   "execution_count": 21,
   "id": "36598172",
   "metadata": {},
   "outputs": [
    {
     "name": "stdout",
     "output_type": "stream",
     "text": [
      "[[ 8 10 10  0]\n",
      " [10  6  8 10]\n",
      " [ 0 10  7 10]\n",
      " [10 10 10  7]]\n"
     ]
    }
   ],
   "source": [
    "arr[arr>10]=10\n",
    "print(arr)"
   ]
  },
  {
   "cell_type": "markdown",
   "id": "e7f85c0b",
   "metadata": {},
   "source": [
    "#### Assignment 9"
   ]
  },
  {
   "cell_type": "markdown",
   "id": "3c5dd302",
   "metadata": {},
   "source": [
    "Q1"
   ]
  },
  {
   "cell_type": "code",
   "execution_count": 25,
   "id": "4380d1a1",
   "metadata": {},
   "outputs": [
    {
     "name": "stdout",
     "output_type": "stream",
     "text": [
      "[('Alice', 25, 56.) ('Bob', 23, 88.) ('Charles', 35, 78.)\n",
      " ('Dereck', 32, 78.) ('Emsbry', 21, 77.)]\n"
     ]
    }
   ],
   "source": [
    "data_type=[('Name','U14'),('Age','i4'),('Weight','f4')]\n",
    "structured_arr=np.array([('Alice',25,56),('Bob',23,88),('Charles',35,78),('Dereck',32,78),('Emsbry',21,77)],dtype=data_type)\n",
    "print(structured_arr)"
   ]
  },
  {
   "cell_type": "code",
   "execution_count": 26,
   "id": "c28f61c2",
   "metadata": {},
   "outputs": [
    {
     "name": "stdout",
     "output_type": "stream",
     "text": [
      "[('Emsbry', 21, 77.) ('Bob', 23, 88.) ('Alice', 25, 56.)\n",
      " ('Dereck', 32, 78.) ('Charles', 35, 78.)]\n"
     ]
    }
   ],
   "source": [
    "sorted_arr=np.sort(structured_arr,order='Age')\n",
    "print(sorted_arr)"
   ]
  },
  {
   "cell_type": "markdown",
   "id": "a04378bd",
   "metadata": {},
   "source": [
    "Q2"
   ]
  },
  {
   "cell_type": "code",
   "execution_count": 36,
   "id": "d10cc019",
   "metadata": {},
   "outputs": [
    {
     "name": "stdout",
     "output_type": "stream",
     "text": [
      "[( 2,  5) ( 4,  7) ( 3, 13) ( 5,  7) ( 2,  6) ( 4,  9) ( 8,  2) ( 7,  3)\n",
      " ( 9,  9) ( 9,  1) (10, 13) ( 8,  4)]\n",
      "(12,)\n"
     ]
    }
   ],
   "source": [
    "data_type=[('x','i4'),('y','i4')]\n",
    "points=np.array([(2,5),(4,7),(3,13),(5,7),(2,6),(4,9),(8,2),(7,3),(9,9),(9,1),(10,13),(8,4)],dtype=data_type)\n",
    "print(points)\n",
    "print(points.shape)"
   ]
  },
  {
   "cell_type": "code",
   "execution_count": 40,
   "id": "ce1271c9",
   "metadata": {},
   "outputs": [
    {
     "name": "stdout",
     "output_type": "stream",
     "text": [
      "[[0. 2. 1. 3. 0. 2. 6. 5. 7. 7. 8. 6.]\n",
      " [2. 0. 1. 1. 2. 0. 4. 3. 5. 5. 6. 4.]\n",
      " [1. 1. 0. 2. 1. 1. 5. 4. 6. 6. 7. 5.]\n",
      " [3. 1. 2. 0. 3. 1. 3. 2. 4. 4. 5. 3.]\n",
      " [0. 2. 1. 3. 0. 2. 6. 5. 7. 7. 8. 6.]\n",
      " [2. 0. 1. 1. 2. 0. 4. 3. 5. 5. 6. 4.]\n",
      " [6. 4. 5. 3. 6. 4. 0. 1. 1. 1. 2. 0.]\n",
      " [5. 3. 4. 2. 5. 3. 1. 0. 2. 2. 3. 1.]\n",
      " [7. 5. 6. 4. 7. 5. 1. 2. 0. 0. 1. 1.]\n",
      " [7. 5. 6. 4. 7. 5. 1. 2. 0. 0. 1. 1.]\n",
      " [8. 6. 7. 5. 8. 6. 2. 3. 1. 1. 0. 2.]\n",
      " [6. 4. 5. 3. 6. 4. 0. 1. 1. 1. 2. 0.]]\n"
     ]
    }
   ],
   "source": [
    "print(np.sqrt((points['x'][:,np.newaxis]-points['x'])**2+(points['y'][np.newaxis,:]-points['y'])**2))"
   ]
  },
  {
   "cell_type": "markdown",
   "id": "a053936a",
   "metadata": {},
   "source": [
    "#### Assignment 10"
   ]
  },
  {
   "cell_type": "markdown",
   "id": "58d850ce",
   "metadata": {},
   "source": [
    "Q1"
   ]
  },
  {
   "cell_type": "code",
   "execution_count": 41,
   "id": "adabfa0c",
   "metadata": {},
   "outputs": [
    {
     "name": "stdout",
     "output_type": "stream",
     "text": [
      "[[ 3  3  1  5]\n",
      " [10  7  9  7]\n",
      " [ 9  8 12  2]\n",
      " [ 1 16 23 23]]\n"
     ]
    }
   ],
   "source": [
    "arr=np.random.randint(1,25,size=(4,4))\n",
    "print(arr)"
   ]
  },
  {
   "cell_type": "code",
   "execution_count": 42,
   "id": "b8a825e9",
   "metadata": {},
   "outputs": [
    {
     "name": "stdout",
     "output_type": "stream",
     "text": [
      "[[False False False False]\n",
      " [False False False False]\n",
      " [False False  True False]\n",
      " [False  True  True  True]]\n"
     ]
    }
   ],
   "source": [
    "mask=arr>10\n",
    "print(mask)"
   ]
  },
  {
   "cell_type": "code",
   "execution_count": 43,
   "id": "f12a4e40",
   "metadata": {},
   "outputs": [],
   "source": [
    "masked_arr=arr[mask]"
   ]
  },
  {
   "cell_type": "code",
   "execution_count": 44,
   "id": "b5b1572c",
   "metadata": {},
   "outputs": [
    {
     "data": {
      "text/plain": [
       "array([12, 16, 23, 23])"
      ]
     },
     "execution_count": 44,
     "metadata": {},
     "output_type": "execute_result"
    }
   ],
   "source": [
    "masked_arr"
   ]
  },
  {
   "cell_type": "code",
   "execution_count": 46,
   "id": "fb6c1639",
   "metadata": {},
   "outputs": [
    {
     "name": "stdout",
     "output_type": "stream",
     "text": [
      "74\n"
     ]
    }
   ],
   "source": [
    "print(masked_arr.sum())"
   ]
  },
  {
   "cell_type": "markdown",
   "id": "a5561e87",
   "metadata": {},
   "source": [
    "Q2"
   ]
  },
  {
   "cell_type": "code",
   "execution_count": 47,
   "id": "56b5abd1",
   "metadata": {},
   "outputs": [
    {
     "name": "stdout",
     "output_type": "stream",
     "text": [
      "[[14  8  5]\n",
      " [ 3 12  8]\n",
      " [ 6 11  3]]\n"
     ]
    }
   ],
   "source": [
    "arr=np.random.randint(1,15,size=(3,3))\n",
    "print(arr)"
   ]
  },
  {
   "cell_type": "code",
   "execution_count": 49,
   "id": "73d00eb9",
   "metadata": {},
   "outputs": [
    {
     "name": "stdout",
     "output_type": "stream",
     "text": [
      "[14 12  3]\n",
      "[ 8  5  3  8  6 11]\n"
     ]
    }
   ],
   "source": [
    "mask=np.diag(arr)\n",
    "print(mask)\n",
    "other_elements=arr[arr!=mask]\n",
    "print(other_elements)"
   ]
  },
  {
   "cell_type": "code",
   "execution_count": 50,
   "id": "24aaea50",
   "metadata": {},
   "outputs": [
    {
     "name": "stdout",
     "output_type": "stream",
     "text": [
      "6.833333333333333\n",
      "[[ 6  8  5]\n",
      " [ 3  6  8]\n",
      " [ 6 11  6]]\n"
     ]
    }
   ],
   "source": [
    "mean_other_ele=other_elements.mean()\n",
    "print(mean_other_ele)\n",
    "arr[arr==mask]=mean_other_ele\n",
    "print(arr)"
   ]
  },
  {
   "cell_type": "code",
   "execution_count": null,
   "id": "7297d82d",
   "metadata": {},
   "outputs": [],
   "source": []
  }
 ],
 "metadata": {
  "kernelspec": {
   "display_name": "GenAI",
   "language": "python",
   "name": "python3"
  },
  "language_info": {
   "codemirror_mode": {
    "name": "ipython",
    "version": 3
   },
   "file_extension": ".py",
   "mimetype": "text/x-python",
   "name": "python",
   "nbconvert_exporter": "python",
   "pygments_lexer": "ipython3",
   "version": "3.10.12"
  }
 },
 "nbformat": 4,
 "nbformat_minor": 5
}
